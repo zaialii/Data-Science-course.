{
 "cells": [
  {
   "cell_type": "markdown",
   "id": "c326da86-fae0-44d4-8bd4-9dbd5e46097c",
   "metadata": {},
   "source": [
    "# Data Science Methodology final assignment\n",
    "\n",
    "### Which topic did you choose to apply the data science methodology to? (2 marks)\n",
    "\n",
    "I have chosen as topic for this task the application of data science in the field of credit cards. The reason behind this choice is that it is related to now a days daily use.\n",
    "\n",
    "### Next, you will play the role of the client and the data scientist. Using the topic that you selected, complete the Business Understanding stage by coming up with a problem that you would like to solve and phrasing it in the form of a question that you will use data to answer. (3 marks)\n",
    "\n",
    "### You are required to:\n",
    "\n",
    "### 1) Describe the problem, related to the topic you selected.\n",
    "### 2) Phrase the problem as a question to be answered using data\n",
    "\n",
    "For example, using the food recipes use case discussed in the labs, the question that we defined was, \"Can we automatically determine the cuisine of a given dish based on its ingredients?\".\n",
    "\n",
    "So the main problem for banks regarding credit cards is that they have to create a model to know to who they can provide them. Certain clients will not be feasible  as they do not have the economic strenght to back up this service.\n",
    "\n",
    "So our question would be \" Can we automatically determine if a client is suitable to obtain a credit card?\n",
    "\n",
    "### Briefly explain how you would complete each of the following stages for the problem that you described in the Business Understanding stage, so that you are ultimately able to answer the question that you came up with. (5 marks):\n",
    "\n",
    "### 1. Analytic Approach\n",
    "### 2. Data Requirements\n",
    "### 3. Data Collection\n",
    "### 4. Data Understanding and Preparation\n",
    "### 5. Modeling and Evaluation\n",
    "\n",
    "### You can always refer to the labs as a reference with describing how you would complete each stage for your problem.\n",
    "\n",
    "1. Analytic Approach: As the problem requires a yes/no answer we will use a classification model\n",
    "\n",
    "2. Data Requirements: To create the classification model we will require information regarding the bank clients. This info should include personal data of the client and should include the ones that defaulted and the one that paid.\n",
    "\n",
    "3: Data Collection: We would use techiques like descriptive statistics and data evalution should be implemented in this phase to make sure that we have useful data for our model.\n",
    "\n",
    "4: Data Undestanding and Preparation: In this step we need to evaluate the different variables of our data in order to undestant it better. For example we would calculate univariate statistics, such as mean or median and the correlation between variables. So we need to evaluate the quality of the data. In the data preparation phase we have to prepare the data in an specific way depending on the model.\n",
    "\n",
    "5: Modeling and Evaluation: Lastly we create a classification model, evaluate the outcome and perform the corresponding changes untill we have a suitable model."
   ]
  },
  {
   "cell_type": "code",
   "execution_count": null,
   "id": "22943f8e-5521-4949-9616-c48ea9f2c3a0",
   "metadata": {},
   "outputs": [],
   "source": []
  }
 ],
 "metadata": {
  "kernelspec": {
   "display_name": "Python 3 (ipykernel)",
   "language": "python",
   "name": "python3"
  },
  "language_info": {
   "codemirror_mode": {
    "name": "ipython",
    "version": 3
   },
   "file_extension": ".py",
   "mimetype": "text/x-python",
   "name": "python",
   "nbconvert_exporter": "python",
   "pygments_lexer": "ipython3",
   "version": "3.12.7"
  }
 },
 "nbformat": 4,
 "nbformat_minor": 5
}
